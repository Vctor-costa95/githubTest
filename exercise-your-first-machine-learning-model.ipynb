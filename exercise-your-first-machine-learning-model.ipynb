{
 "cells": [
  {
   "cell_type": "markdown",
   "id": "7f2bc5e3",
   "metadata": {
    "papermill": {
     "duration": 0.006635,
     "end_time": "2023-02-27T16:20:12.726350",
     "exception": false,
     "start_time": "2023-02-27T16:20:12.719715",
     "status": "completed"
    },
    "tags": []
   },
   "source": [
    "**This notebook is an exercise in the [Introduction to Machine Learning](https://www.kaggle.com/learn/intro-to-machine-learning) course.  You can reference the tutorial at [this link](https://www.kaggle.com/dansbecker/your-first-machine-learning-model).**\n",
    "\n",
    "---\n"
   ]
  },
  {
   "cell_type": "markdown",
   "id": "6c3ce8e2",
   "metadata": {
    "papermill": {
     "duration": 0.004995,
     "end_time": "2023-02-27T16:20:12.736873",
     "exception": false,
     "start_time": "2023-02-27T16:20:12.731878",
     "status": "completed"
    },
    "tags": []
   },
   "source": [
    "## Recap\n",
    "So far, you have loaded your data and reviewed it with the following code. Run this cell to set up your coding environment where the previous step left off."
   ]
  },
  {
   "cell_type": "code",
   "execution_count": 1,
   "id": "2563e55a",
   "metadata": {
    "execution": {
     "iopub.execute_input": "2023-02-27T16:20:12.750460Z",
     "iopub.status.busy": "2023-02-27T16:20:12.749485Z",
     "iopub.status.idle": "2023-02-27T16:20:14.033817Z",
     "shell.execute_reply": "2023-02-27T16:20:14.032543Z"
    },
    "papermill": {
     "duration": 1.294501,
     "end_time": "2023-02-27T16:20:14.036759",
     "exception": false,
     "start_time": "2023-02-27T16:20:12.742258",
     "status": "completed"
    },
    "tags": []
   },
   "outputs": [
    {
     "name": "stdout",
     "output_type": "stream",
     "text": [
      "Setup Complete\n"
     ]
    }
   ],
   "source": [
    "# Code you have previously used to load data\n",
    "import pandas as pd\n",
    "\n",
    "# Path of the file to read\n",
    "iowa_file_path = '../input/home-data-for-ml-course/train.csv'\n",
    "\n",
    "home_data = pd.read_csv(iowa_file_path)\n",
    "\n",
    "# Set up code checking\n",
    "from learntools.core import binder\n",
    "binder.bind(globals())\n",
    "from learntools.machine_learning.ex3 import *\n",
    "\n",
    "print(\"Setup Complete\")"
   ]
  },
  {
   "cell_type": "markdown",
   "id": "bebd7781",
   "metadata": {
    "papermill": {
     "duration": 0.005209,
     "end_time": "2023-02-27T16:20:14.047485",
     "exception": false,
     "start_time": "2023-02-27T16:20:14.042276",
     "status": "completed"
    },
    "tags": []
   },
   "source": [
    "# Exercises\n",
    "\n",
    "## Step 1: Specify Prediction Target\n",
    "Select the target variable, which corresponds to the sales price. Save this to a new variable called `y`. You'll need to print a list of the columns to find the name of the column you need.\n"
   ]
  },
  {
   "cell_type": "code",
   "execution_count": 2,
   "id": "97d2b99d",
   "metadata": {
    "execution": {
     "iopub.execute_input": "2023-02-27T16:20:14.060463Z",
     "iopub.status.busy": "2023-02-27T16:20:14.059631Z",
     "iopub.status.idle": "2023-02-27T16:20:14.069662Z",
     "shell.execute_reply": "2023-02-27T16:20:14.068288Z"
    },
    "papermill": {
     "duration": 0.019474,
     "end_time": "2023-02-27T16:20:14.072349",
     "exception": false,
     "start_time": "2023-02-27T16:20:14.052875",
     "status": "completed"
    },
    "tags": []
   },
   "outputs": [
    {
     "data": {
      "text/plain": [
       "Index(['Id', 'MSSubClass', 'MSZoning', 'LotFrontage', 'LotArea', 'Street',\n",
       "       'Alley', 'LotShape', 'LandContour', 'Utilities', 'LotConfig',\n",
       "       'LandSlope', 'Neighborhood', 'Condition1', 'Condition2', 'BldgType',\n",
       "       'HouseStyle', 'OverallQual', 'OverallCond', 'YearBuilt', 'YearRemodAdd',\n",
       "       'RoofStyle', 'RoofMatl', 'Exterior1st', 'Exterior2nd', 'MasVnrType',\n",
       "       'MasVnrArea', 'ExterQual', 'ExterCond', 'Foundation', 'BsmtQual',\n",
       "       'BsmtCond', 'BsmtExposure', 'BsmtFinType1', 'BsmtFinSF1',\n",
       "       'BsmtFinType2', 'BsmtFinSF2', 'BsmtUnfSF', 'TotalBsmtSF', 'Heating',\n",
       "       'HeatingQC', 'CentralAir', 'Electrical', '1stFlrSF', '2ndFlrSF',\n",
       "       'LowQualFinSF', 'GrLivArea', 'BsmtFullBath', 'BsmtHalfBath', 'FullBath',\n",
       "       'HalfBath', 'BedroomAbvGr', 'KitchenAbvGr', 'KitchenQual',\n",
       "       'TotRmsAbvGrd', 'Functional', 'Fireplaces', 'FireplaceQu', 'GarageType',\n",
       "       'GarageYrBlt', 'GarageFinish', 'GarageCars', 'GarageArea', 'GarageQual',\n",
       "       'GarageCond', 'PavedDrive', 'WoodDeckSF', 'OpenPorchSF',\n",
       "       'EnclosedPorch', '3SsnPorch', 'ScreenPorch', 'PoolArea', 'PoolQC',\n",
       "       'Fence', 'MiscFeature', 'MiscVal', 'MoSold', 'YrSold', 'SaleType',\n",
       "       'SaleCondition', 'SalePrice'],\n",
       "      dtype='object')"
      ]
     },
     "execution_count": 2,
     "metadata": {},
     "output_type": "execute_result"
    }
   ],
   "source": [
    "home_data.columns\n"
   ]
  },
  {
   "cell_type": "code",
   "execution_count": 3,
   "id": "d9b863fd",
   "metadata": {
    "execution": {
     "iopub.execute_input": "2023-02-27T16:20:14.085881Z",
     "iopub.status.busy": "2023-02-27T16:20:14.084791Z",
     "iopub.status.idle": "2023-02-27T16:20:14.100420Z",
     "shell.execute_reply": "2023-02-27T16:20:14.099181Z"
    },
    "papermill": {
     "duration": 0.024581,
     "end_time": "2023-02-27T16:20:14.102578",
     "exception": false,
     "start_time": "2023-02-27T16:20:14.077997",
     "status": "completed"
    },
    "tags": []
   },
   "outputs": [
    {
     "data": {
      "application/javascript": [
       "parent.postMessage({\"jupyterEvent\": \"custom.exercise_interaction\", \"data\": {\"outcomeType\": 1, \"valueTowardsCompletion\": 0.25, \"interactionType\": 1, \"questionType\": 2, \"questionId\": \"1_SetTarget\", \"learnToolsVersion\": \"0.3.4\", \"failureMessage\": \"\", \"exceptionClass\": \"\", \"trace\": \"\"}}, \"*\")"
      ],
      "text/plain": [
       "<IPython.core.display.Javascript object>"
      ]
     },
     "metadata": {},
     "output_type": "display_data"
    },
    {
     "data": {
      "text/markdown": [
       "<span style=\"color:#33cc33\">Correct</span>"
      ],
      "text/plain": [
       "Correct"
      ]
     },
     "metadata": {},
     "output_type": "display_data"
    }
   ],
   "source": [
    "y = home_data.SalePrice\n",
    "\n",
    "# Check your answer\n",
    "step_1.check()"
   ]
  },
  {
   "cell_type": "code",
   "execution_count": 4,
   "id": "809ef412",
   "metadata": {
    "execution": {
     "iopub.execute_input": "2023-02-27T16:20:14.116075Z",
     "iopub.status.busy": "2023-02-27T16:20:14.115649Z",
     "iopub.status.idle": "2023-02-27T16:20:14.119678Z",
     "shell.execute_reply": "2023-02-27T16:20:14.118798Z"
    },
    "papermill": {
     "duration": 0.013483,
     "end_time": "2023-02-27T16:20:14.121827",
     "exception": false,
     "start_time": "2023-02-27T16:20:14.108344",
     "status": "completed"
    },
    "tags": []
   },
   "outputs": [],
   "source": [
    "# The lines below will show you a hint or the solution.\n",
    "# step_1.hint() \n",
    "# step_1.solution()"
   ]
  },
  {
   "cell_type": "markdown",
   "id": "f292b642",
   "metadata": {
    "papermill": {
     "duration": 0.005475,
     "end_time": "2023-02-27T16:20:14.133151",
     "exception": false,
     "start_time": "2023-02-27T16:20:14.127676",
     "status": "completed"
    },
    "tags": []
   },
   "source": [
    "## Step 2: Create X\n",
    "Now you will create a DataFrame called `X` holding the predictive features.\n",
    "\n",
    "Since you want only some columns from the original data, you'll first create a list with the names of the columns you want in `X`.\n",
    "\n",
    "You'll use just the following columns in the list (you can copy and paste the whole list to save some typing, though you'll still need to add quotes):\n",
    "  * LotArea\n",
    "  * YearBuilt\n",
    "  * 1stFlrSF\n",
    "  * 2ndFlrSF\n",
    "  * FullBath\n",
    "  * BedroomAbvGr\n",
    "  * TotRmsAbvGrd\n",
    "\n",
    "After you've created that list of features, use it to create the DataFrame that you'll use to fit the model."
   ]
  },
  {
   "cell_type": "code",
   "execution_count": 5,
   "id": "4b15e648",
   "metadata": {
    "execution": {
     "iopub.execute_input": "2023-02-27T16:20:14.146924Z",
     "iopub.status.busy": "2023-02-27T16:20:14.146082Z",
     "iopub.status.idle": "2023-02-27T16:20:14.159713Z",
     "shell.execute_reply": "2023-02-27T16:20:14.158566Z"
    },
    "papermill": {
     "duration": 0.023454,
     "end_time": "2023-02-27T16:20:14.162365",
     "exception": false,
     "start_time": "2023-02-27T16:20:14.138911",
     "status": "completed"
    },
    "tags": []
   },
   "outputs": [
    {
     "data": {
      "application/javascript": [
       "parent.postMessage({\"jupyterEvent\": \"custom.exercise_interaction\", \"data\": {\"outcomeType\": 1, \"valueTowardsCompletion\": 0.25, \"interactionType\": 1, \"questionType\": 2, \"questionId\": \"2_SelectPredictionData\", \"learnToolsVersion\": \"0.3.4\", \"failureMessage\": \"\", \"exceptionClass\": \"\", \"trace\": \"\"}}, \"*\")"
      ],
      "text/plain": [
       "<IPython.core.display.Javascript object>"
      ]
     },
     "metadata": {},
     "output_type": "display_data"
    },
    {
     "data": {
      "text/markdown": [
       "<span style=\"color:#33cc33\">Correct</span>"
      ],
      "text/plain": [
       "Correct"
      ]
     },
     "metadata": {},
     "output_type": "display_data"
    }
   ],
   "source": [
    "# Create the list of features below\n",
    "feature_names = ['LotArea',\n",
    "'YearBuilt',\n",
    "'1stFlrSF',\n",
    "'2ndFlrSF',\n",
    "'FullBath',\n",
    "'BedroomAbvGr',\n",
    "'TotRmsAbvGrd']\n",
    "\n",
    "# Select data corresponding to features in feature_names\n",
    "X = home_data[feature_names]\n",
    "\n",
    "# Check your answer\n",
    "step_2.check()"
   ]
  },
  {
   "cell_type": "code",
   "execution_count": 6,
   "id": "88de70a2",
   "metadata": {
    "execution": {
     "iopub.execute_input": "2023-02-27T16:20:14.176782Z",
     "iopub.status.busy": "2023-02-27T16:20:14.176319Z",
     "iopub.status.idle": "2023-02-27T16:20:14.181375Z",
     "shell.execute_reply": "2023-02-27T16:20:14.180135Z"
    },
    "papermill": {
     "duration": 0.015487,
     "end_time": "2023-02-27T16:20:14.183981",
     "exception": false,
     "start_time": "2023-02-27T16:20:14.168494",
     "status": "completed"
    },
    "tags": []
   },
   "outputs": [],
   "source": [
    "# step_2.hint()\n",
    "# step_2.solution()"
   ]
  },
  {
   "cell_type": "markdown",
   "id": "c581d68b",
   "metadata": {
    "papermill": {
     "duration": 0.005608,
     "end_time": "2023-02-27T16:20:14.195643",
     "exception": false,
     "start_time": "2023-02-27T16:20:14.190035",
     "status": "completed"
    },
    "tags": []
   },
   "source": [
    "## Review Data\n",
    "Before building a model, take a quick look at **X** to verify it looks sensible"
   ]
  },
  {
   "cell_type": "code",
   "execution_count": 7,
   "id": "00b7e6c7",
   "metadata": {
    "execution": {
     "iopub.execute_input": "2023-02-27T16:20:14.210692Z",
     "iopub.status.busy": "2023-02-27T16:20:14.209949Z",
     "iopub.status.idle": "2023-02-27T16:20:14.253331Z",
     "shell.execute_reply": "2023-02-27T16:20:14.251525Z"
    },
    "papermill": {
     "duration": 0.053556,
     "end_time": "2023-02-27T16:20:14.256167",
     "exception": false,
     "start_time": "2023-02-27T16:20:14.202611",
     "status": "completed"
    },
    "tags": []
   },
   "outputs": [
    {
     "name": "stdout",
     "output_type": "stream",
     "text": [
      "             LotArea    YearBuilt     1stFlrSF     2ndFlrSF     FullBath  \\\n",
      "count    1460.000000  1460.000000  1460.000000  1460.000000  1460.000000   \n",
      "mean    10516.828082  1971.267808  1162.626712   346.992466     1.565068   \n",
      "std      9981.264932    30.202904   386.587738   436.528436     0.550916   \n",
      "min      1300.000000  1872.000000   334.000000     0.000000     0.000000   \n",
      "25%      7553.500000  1954.000000   882.000000     0.000000     1.000000   \n",
      "50%      9478.500000  1973.000000  1087.000000     0.000000     2.000000   \n",
      "75%     11601.500000  2000.000000  1391.250000   728.000000     2.000000   \n",
      "max    215245.000000  2010.000000  4692.000000  2065.000000     3.000000   \n",
      "\n",
      "       BedroomAbvGr  TotRmsAbvGrd  \n",
      "count   1460.000000   1460.000000  \n",
      "mean       2.866438      6.517808  \n",
      "std        0.815778      1.625393  \n",
      "min        0.000000      2.000000  \n",
      "25%        2.000000      5.000000  \n",
      "50%        3.000000      6.000000  \n",
      "75%        3.000000      7.000000  \n",
      "max        8.000000     14.000000  \n",
      "   LotArea  YearBuilt  1stFlrSF  2ndFlrSF  FullBath  BedroomAbvGr  \\\n",
      "0     8450       2003       856       854         2             3   \n",
      "1     9600       1976      1262         0         2             3   \n",
      "2    11250       2001       920       866         2             3   \n",
      "3     9550       1915       961       756         1             3   \n",
      "4    14260       2000      1145      1053         2             4   \n",
      "\n",
      "   TotRmsAbvGrd  \n",
      "0             8  \n",
      "1             6  \n",
      "2             6  \n",
      "3             7  \n",
      "4             9  \n"
     ]
    }
   ],
   "source": [
    "# Review data\n",
    "# print description or statistics from X\n",
    "print(X.describe())\n",
    "\n",
    "# print the top few lines\n",
    "print(X.head())"
   ]
  },
  {
   "cell_type": "markdown",
   "id": "8163127b",
   "metadata": {
    "papermill": {
     "duration": 0.006177,
     "end_time": "2023-02-27T16:20:14.268939",
     "exception": false,
     "start_time": "2023-02-27T16:20:14.262762",
     "status": "completed"
    },
    "tags": []
   },
   "source": [
    "## Step 3: Specify and Fit Model\n",
    "Create a `DecisionTreeRegressor` and save it iowa_model. Ensure you've done the relevant import from sklearn to run this command.\n",
    "\n",
    "Then fit the model you just created using the data in `X` and `y` that you saved above."
   ]
  },
  {
   "cell_type": "code",
   "execution_count": 8,
   "id": "151991f6",
   "metadata": {
    "execution": {
     "iopub.execute_input": "2023-02-27T16:20:14.284432Z",
     "iopub.status.busy": "2023-02-27T16:20:14.282983Z",
     "iopub.status.idle": "2023-02-27T16:20:14.304526Z",
     "shell.execute_reply": "2023-02-27T16:20:14.303325Z"
    },
    "papermill": {
     "duration": 0.031952,
     "end_time": "2023-02-27T16:20:14.307204",
     "exception": false,
     "start_time": "2023-02-27T16:20:14.275252",
     "status": "completed"
    },
    "tags": []
   },
   "outputs": [
    {
     "data": {
      "application/javascript": [
       "parent.postMessage({\"jupyterEvent\": \"custom.exercise_interaction\", \"data\": {\"outcomeType\": 1, \"valueTowardsCompletion\": 0.25, \"interactionType\": 1, \"questionType\": 2, \"questionId\": \"3_CreateModel\", \"learnToolsVersion\": \"0.3.4\", \"failureMessage\": \"\", \"exceptionClass\": \"\", \"trace\": \"\"}}, \"*\")"
      ],
      "text/plain": [
       "<IPython.core.display.Javascript object>"
      ]
     },
     "metadata": {},
     "output_type": "display_data"
    },
    {
     "data": {
      "text/markdown": [
       "<span style=\"color:#33cc33\">Correct</span>"
      ],
      "text/plain": [
       "Correct"
      ]
     },
     "metadata": {},
     "output_type": "display_data"
    }
   ],
   "source": [
    "from sklearn.tree import DecisionTreeRegressor\n",
    "#specify the model. \n",
    "#For model reproducibility, set a numeric value for random_state when specifying the model\n",
    "iowa_model = DecisionTreeRegressor(random_state=1)\n",
    "\n",
    "# Fit the model\n",
    "iowa_model.fit(X,y)\n",
    "\n",
    "# Check your answer\n",
    "step_3.check()"
   ]
  },
  {
   "cell_type": "code",
   "execution_count": 9,
   "id": "3353bb39",
   "metadata": {
    "execution": {
     "iopub.execute_input": "2023-02-27T16:20:14.322192Z",
     "iopub.status.busy": "2023-02-27T16:20:14.321795Z",
     "iopub.status.idle": "2023-02-27T16:20:14.325799Z",
     "shell.execute_reply": "2023-02-27T16:20:14.324843Z"
    },
    "papermill": {
     "duration": 0.014213,
     "end_time": "2023-02-27T16:20:14.327933",
     "exception": false,
     "start_time": "2023-02-27T16:20:14.313720",
     "status": "completed"
    },
    "tags": []
   },
   "outputs": [],
   "source": [
    "# step_3.hint()\n",
    "# step_3.solution()"
   ]
  },
  {
   "cell_type": "markdown",
   "id": "e4eca45f",
   "metadata": {
    "papermill": {
     "duration": 0.006127,
     "end_time": "2023-02-27T16:20:14.340596",
     "exception": false,
     "start_time": "2023-02-27T16:20:14.334469",
     "status": "completed"
    },
    "tags": []
   },
   "source": [
    "## Step 4: Make Predictions\n",
    "Make predictions with the model's `predict` command using `X` as the data. Save the results to a variable called `predictions`."
   ]
  },
  {
   "cell_type": "code",
   "execution_count": 10,
   "id": "78a9b2a3",
   "metadata": {
    "execution": {
     "iopub.execute_input": "2023-02-27T16:20:14.356183Z",
     "iopub.status.busy": "2023-02-27T16:20:14.355306Z",
     "iopub.status.idle": "2023-02-27T16:20:14.371345Z",
     "shell.execute_reply": "2023-02-27T16:20:14.370049Z"
    },
    "papermill": {
     "duration": 0.02654,
     "end_time": "2023-02-27T16:20:14.373787",
     "exception": false,
     "start_time": "2023-02-27T16:20:14.347247",
     "status": "completed"
    },
    "tags": []
   },
   "outputs": [
    {
     "name": "stdout",
     "output_type": "stream",
     "text": [
      "[208500. 181500. 223500. ... 266500. 142125. 147500.]\n"
     ]
    },
    {
     "data": {
      "application/javascript": [
       "parent.postMessage({\"jupyterEvent\": \"custom.exercise_interaction\", \"data\": {\"outcomeType\": 1, \"valueTowardsCompletion\": 0.25, \"interactionType\": 1, \"questionType\": 2, \"questionId\": \"4_MakePredictions\", \"learnToolsVersion\": \"0.3.4\", \"failureMessage\": \"\", \"exceptionClass\": \"\", \"trace\": \"\"}}, \"*\")"
      ],
      "text/plain": [
       "<IPython.core.display.Javascript object>"
      ]
     },
     "metadata": {},
     "output_type": "display_data"
    },
    {
     "data": {
      "text/markdown": [
       "<span style=\"color:#33cc33\">Correct</span>"
      ],
      "text/plain": [
       "Correct"
      ]
     },
     "metadata": {},
     "output_type": "display_data"
    }
   ],
   "source": [
    "predictions = iowa_model.predict(X)\n",
    "print(predictions)\n",
    "\n",
    "# Check your answer\n",
    "step_4.check()"
   ]
  },
  {
   "cell_type": "code",
   "execution_count": 11,
   "id": "b742bd98",
   "metadata": {
    "execution": {
     "iopub.execute_input": "2023-02-27T16:20:14.389876Z",
     "iopub.status.busy": "2023-02-27T16:20:14.389032Z",
     "iopub.status.idle": "2023-02-27T16:20:14.393478Z",
     "shell.execute_reply": "2023-02-27T16:20:14.392436Z"
    },
    "papermill": {
     "duration": 0.01541,
     "end_time": "2023-02-27T16:20:14.395974",
     "exception": false,
     "start_time": "2023-02-27T16:20:14.380564",
     "status": "completed"
    },
    "tags": []
   },
   "outputs": [],
   "source": [
    "# step_4.hint()\n",
    "# step_4.solution()"
   ]
  },
  {
   "cell_type": "markdown",
   "id": "b4d03d96",
   "metadata": {
    "papermill": {
     "duration": 0.006597,
     "end_time": "2023-02-27T16:20:14.409432",
     "exception": false,
     "start_time": "2023-02-27T16:20:14.402835",
     "status": "completed"
    },
    "tags": []
   },
   "source": [
    "## Think About Your Results\n",
    "\n",
    "Use the `head` method to compare the top few predictions to the actual home values (in `y`) for those same homes. Anything surprising?\n"
   ]
  },
  {
   "cell_type": "code",
   "execution_count": 12,
   "id": "c061679c",
   "metadata": {
    "execution": {
     "iopub.execute_input": "2023-02-27T16:20:14.425338Z",
     "iopub.status.busy": "2023-02-27T16:20:14.424524Z",
     "iopub.status.idle": "2023-02-27T16:20:14.434640Z",
     "shell.execute_reply": "2023-02-27T16:20:14.433030Z"
    },
    "papermill": {
     "duration": 0.021024,
     "end_time": "2023-02-27T16:20:14.437299",
     "exception": false,
     "start_time": "2023-02-27T16:20:14.416275",
     "status": "completed"
    },
    "tags": []
   },
   "outputs": [
    {
     "name": "stdout",
     "output_type": "stream",
     "text": [
      "Actual values:  0    208500\n",
      "1    181500\n",
      "2    223500\n",
      "3    140000\n",
      "4    250000\n",
      "Name: SalePrice, dtype: int64\n",
      "Predicted Values:  [208500. 181500. 223500. 140000. 250000.]\n"
     ]
    }
   ],
   "source": [
    "print('Actual values: ',y.head())\n",
    "print('Predicted Values: ',iowa_model.predict(X.head()))\n",
    "\n"
   ]
  },
  {
   "cell_type": "markdown",
   "id": "a3f40889",
   "metadata": {
    "papermill": {
     "duration": 0.006463,
     "end_time": "2023-02-27T16:20:14.450657",
     "exception": false,
     "start_time": "2023-02-27T16:20:14.444194",
     "status": "completed"
    },
    "tags": []
   },
   "source": [
    "It's natural to ask how accurate the model's predictions will be and how you can improve that. That will be you're next step.\n",
    "\n",
    "# Keep Going\n",
    "\n",
    "You are ready for **[Model Validation](https://www.kaggle.com/dansbecker/model-validation).**\n"
   ]
  },
  {
   "cell_type": "markdown",
   "id": "da12bdb0",
   "metadata": {
    "papermill": {
     "duration": 0.006373,
     "end_time": "2023-02-27T16:20:14.463937",
     "exception": false,
     "start_time": "2023-02-27T16:20:14.457564",
     "status": "completed"
    },
    "tags": []
   },
   "source": [
    "---\n",
    "\n",
    "\n",
    "\n",
    "\n",
    "*Have questions or comments? Visit the [course discussion forum](https://www.kaggle.com/learn/intro-to-machine-learning/discussion) to chat with other learners.*"
   ]
  }
 ],
 "metadata": {
  "kernelspec": {
   "display_name": "Python 3",
   "language": "python",
   "name": "python3"
  },
  "language_info": {
   "codemirror_mode": {
    "name": "ipython",
    "version": 3
   },
   "file_extension": ".py",
   "mimetype": "text/x-python",
   "name": "python",
   "nbconvert_exporter": "python",
   "pygments_lexer": "ipython3",
   "version": "3.7.12"
  },
  "papermill": {
   "default_parameters": {},
   "duration": 12.56312,
   "end_time": "2023-02-27T16:20:15.193877",
   "environment_variables": {},
   "exception": null,
   "input_path": "__notebook__.ipynb",
   "output_path": "__notebook__.ipynb",
   "parameters": {},
   "start_time": "2023-02-27T16:20:02.630757",
   "version": "2.4.0"
  }
 },
 "nbformat": 4,
 "nbformat_minor": 5
}
